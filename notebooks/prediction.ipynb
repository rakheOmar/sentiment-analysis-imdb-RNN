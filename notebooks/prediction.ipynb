{
 "cells": [
  {
   "cell_type": "markdown",
   "id": "8472ce4d",
   "metadata": {},
   "source": [
    "# Prediciton Using trained model"
   ]
  },
  {
   "cell_type": "code",
   "execution_count": 1,
   "id": "e83faaf6",
   "metadata": {},
   "outputs": [],
   "source": [
    "from tensorflow.keras.datasets import imdb\n",
    "from tensorflow.keras.preprocessing import sequence\n",
    "from tensorflow.keras.models import load_model"
   ]
  },
  {
   "cell_type": "code",
   "execution_count": 2,
   "id": "07a953f5",
   "metadata": {},
   "outputs": [],
   "source": [
    "word_index = imdb.get_word_index()\n",
    "reverse_word_index = {value: key for key, value in word_index.items()}"
   ]
  },
  {
   "cell_type": "code",
   "execution_count": 3,
   "id": "85b68c0d",
   "metadata": {},
   "outputs": [
    {
     "data": {
      "text/html": [
       "<pre style=\"white-space:pre;overflow-x:auto;line-height:normal;font-family:Menlo,'DejaVu Sans Mono',consolas,'Courier New',monospace\"><span style=\"font-weight: bold\">Model: \"sequential_4\"</span>\n",
       "</pre>\n"
      ],
      "text/plain": [
       "\u001b[1mModel: \"sequential_4\"\u001b[0m\n"
      ]
     },
     "metadata": {},
     "output_type": "display_data"
    },
    {
     "data": {
      "text/html": [
       "<pre style=\"white-space:pre;overflow-x:auto;line-height:normal;font-family:Menlo,'DejaVu Sans Mono',consolas,'Courier New',monospace\">┏━━━━━━━━━━━━━━━━━━━━━━━━━━━━━━━━━┳━━━━━━━━━━━━━━━━━━━━━━━━┳━━━━━━━━━━━━━━━┓\n",
       "┃<span style=\"font-weight: bold\"> Layer (type)                    </span>┃<span style=\"font-weight: bold\"> Output Shape           </span>┃<span style=\"font-weight: bold\">       Param # </span>┃\n",
       "┡━━━━━━━━━━━━━━━━━━━━━━━━━━━━━━━━━╇━━━━━━━━━━━━━━━━━━━━━━━━╇━━━━━━━━━━━━━━━┩\n",
       "│ embedding_4 (<span style=\"color: #0087ff; text-decoration-color: #0087ff\">Embedding</span>)         │ (<span style=\"color: #00d7ff; text-decoration-color: #00d7ff\">None</span>, <span style=\"color: #00af00; text-decoration-color: #00af00\">500</span>, <span style=\"color: #00af00; text-decoration-color: #00af00\">128</span>)       │     <span style=\"color: #00af00; text-decoration-color: #00af00\">1,280,000</span> │\n",
       "├─────────────────────────────────┼────────────────────────┼───────────────┤\n",
       "│ simple_rnn_4 (<span style=\"color: #0087ff; text-decoration-color: #0087ff\">SimpleRNN</span>)        │ (<span style=\"color: #00d7ff; text-decoration-color: #00d7ff\">None</span>, <span style=\"color: #00af00; text-decoration-color: #00af00\">128</span>)            │        <span style=\"color: #00af00; text-decoration-color: #00af00\">32,896</span> │\n",
       "├─────────────────────────────────┼────────────────────────┼───────────────┤\n",
       "│ dense_4 (<span style=\"color: #0087ff; text-decoration-color: #0087ff\">Dense</span>)                 │ (<span style=\"color: #00d7ff; text-decoration-color: #00d7ff\">None</span>, <span style=\"color: #00af00; text-decoration-color: #00af00\">1</span>)              │           <span style=\"color: #00af00; text-decoration-color: #00af00\">129</span> │\n",
       "└─────────────────────────────────┴────────────────────────┴───────────────┘\n",
       "</pre>\n"
      ],
      "text/plain": [
       "┏━━━━━━━━━━━━━━━━━━━━━━━━━━━━━━━━━┳━━━━━━━━━━━━━━━━━━━━━━━━┳━━━━━━━━━━━━━━━┓\n",
       "┃\u001b[1m \u001b[0m\u001b[1mLayer (type)                   \u001b[0m\u001b[1m \u001b[0m┃\u001b[1m \u001b[0m\u001b[1mOutput Shape          \u001b[0m\u001b[1m \u001b[0m┃\u001b[1m \u001b[0m\u001b[1m      Param #\u001b[0m\u001b[1m \u001b[0m┃\n",
       "┡━━━━━━━━━━━━━━━━━━━━━━━━━━━━━━━━━╇━━━━━━━━━━━━━━━━━━━━━━━━╇━━━━━━━━━━━━━━━┩\n",
       "│ embedding_4 (\u001b[38;5;33mEmbedding\u001b[0m)         │ (\u001b[38;5;45mNone\u001b[0m, \u001b[38;5;34m500\u001b[0m, \u001b[38;5;34m128\u001b[0m)       │     \u001b[38;5;34m1,280,000\u001b[0m │\n",
       "├─────────────────────────────────┼────────────────────────┼───────────────┤\n",
       "│ simple_rnn_4 (\u001b[38;5;33mSimpleRNN\u001b[0m)        │ (\u001b[38;5;45mNone\u001b[0m, \u001b[38;5;34m128\u001b[0m)            │        \u001b[38;5;34m32,896\u001b[0m │\n",
       "├─────────────────────────────────┼────────────────────────┼───────────────┤\n",
       "│ dense_4 (\u001b[38;5;33mDense\u001b[0m)                 │ (\u001b[38;5;45mNone\u001b[0m, \u001b[38;5;34m1\u001b[0m)              │           \u001b[38;5;34m129\u001b[0m │\n",
       "└─────────────────────────────────┴────────────────────────┴───────────────┘\n"
      ]
     },
     "metadata": {},
     "output_type": "display_data"
    },
    {
     "data": {
      "text/html": [
       "<pre style=\"white-space:pre;overflow-x:auto;line-height:normal;font-family:Menlo,'DejaVu Sans Mono',consolas,'Courier New',monospace\"><span style=\"font-weight: bold\"> Total params: </span><span style=\"color: #00af00; text-decoration-color: #00af00\">3,939,077</span> (15.03 MB)\n",
       "</pre>\n"
      ],
      "text/plain": [
       "\u001b[1m Total params: \u001b[0m\u001b[38;5;34m3,939,077\u001b[0m (15.03 MB)\n"
      ]
     },
     "metadata": {},
     "output_type": "display_data"
    },
    {
     "data": {
      "text/html": [
       "<pre style=\"white-space:pre;overflow-x:auto;line-height:normal;font-family:Menlo,'DejaVu Sans Mono',consolas,'Courier New',monospace\"><span style=\"font-weight: bold\"> Trainable params: </span><span style=\"color: #00af00; text-decoration-color: #00af00\">1,313,025</span> (5.01 MB)\n",
       "</pre>\n"
      ],
      "text/plain": [
       "\u001b[1m Trainable params: \u001b[0m\u001b[38;5;34m1,313,025\u001b[0m (5.01 MB)\n"
      ]
     },
     "metadata": {},
     "output_type": "display_data"
    },
    {
     "data": {
      "text/html": [
       "<pre style=\"white-space:pre;overflow-x:auto;line-height:normal;font-family:Menlo,'DejaVu Sans Mono',consolas,'Courier New',monospace\"><span style=\"font-weight: bold\"> Non-trainable params: </span><span style=\"color: #00af00; text-decoration-color: #00af00\">0</span> (0.00 B)\n",
       "</pre>\n"
      ],
      "text/plain": [
       "\u001b[1m Non-trainable params: \u001b[0m\u001b[38;5;34m0\u001b[0m (0.00 B)\n"
      ]
     },
     "metadata": {},
     "output_type": "display_data"
    },
    {
     "data": {
      "text/html": [
       "<pre style=\"white-space:pre;overflow-x:auto;line-height:normal;font-family:Menlo,'DejaVu Sans Mono',consolas,'Courier New',monospace\"><span style=\"font-weight: bold\"> Optimizer params: </span><span style=\"color: #00af00; text-decoration-color: #00af00\">2,626,052</span> (10.02 MB)\n",
       "</pre>\n"
      ],
      "text/plain": [
       "\u001b[1m Optimizer params: \u001b[0m\u001b[38;5;34m2,626,052\u001b[0m (10.02 MB)\n"
      ]
     },
     "metadata": {},
     "output_type": "display_data"
    }
   ],
   "source": [
    "# Load the pre-trained model with ReLU activation\n",
    "model = load_model(\"../models/simple_rnn_imdb.keras\")\n",
    "model.summary()"
   ]
  },
  {
   "cell_type": "code",
   "execution_count": 4,
   "id": "4c74a858",
   "metadata": {},
   "outputs": [
    {
     "data": {
      "text/plain": [
       "[array([[ 0.01124436,  0.59836876,  0.09450255, ..., -0.10434714,\n",
       "          0.1132904 , -0.04151873],\n",
       "        [-0.04071433,  0.02002142, -0.0055169 , ...,  0.04507877,\n",
       "         -0.00873698,  0.03511336],\n",
       "        [-0.06350724,  0.1025831 , -0.07383865, ...,  0.05818703,\n",
       "         -0.06126693, -0.03239562],\n",
       "        ...,\n",
       "        [ 0.02874236, -0.01342469,  0.03575718, ..., -0.00906377,\n",
       "          0.02849792,  0.00105558],\n",
       "        [-0.00869382, -0.05909687, -0.06568762, ...,  0.03186004,\n",
       "         -0.00748493,  0.04834919],\n",
       "        [-0.07044936,  0.06372593, -0.07692443, ...,  0.07928286,\n",
       "          0.0538541 , -0.05044369]], dtype=float32),\n",
       " array([[ 0.0910251 , -0.0352212 , -0.00035572, ...,  0.08426756,\n",
       "         -0.1665279 ,  0.03297064],\n",
       "        [-0.12780833, -0.04296836,  0.13971959, ...,  0.09558192,\n",
       "         -0.10219733, -0.05658478],\n",
       "        [ 0.06664618, -0.12073615, -0.1454355 , ...,  0.09877545,\n",
       "         -0.12745863, -0.03971663],\n",
       "        ...,\n",
       "        [-0.07693736,  0.14746617, -0.00817345, ...,  0.02707557,\n",
       "          0.12091266, -0.10757951],\n",
       "        [ 0.08019693,  0.16912095, -0.17134713, ...,  0.12031778,\n",
       "          0.13300818, -0.09156967],\n",
       "        [-0.03145861,  0.08468814, -0.09475037, ...,  0.0006885 ,\n",
       "          0.08889492,  0.090363  ]], dtype=float32),\n",
       " array([[-0.08502324, -0.1508412 , -0.05940295, ..., -0.20280091,\n",
       "          0.01581238, -0.07944725],\n",
       "        [ 0.02730889,  0.01286593,  0.0647193 , ..., -0.08588304,\n",
       "         -0.09848541, -0.04744079],\n",
       "        [ 0.15527596, -0.08523085, -0.128557  , ..., -0.12248483,\n",
       "         -0.19147535, -0.0061301 ],\n",
       "        ...,\n",
       "        [-0.01500768, -0.02274873,  0.09383608, ...,  0.01589836,\n",
       "         -0.08881555, -0.01185648],\n",
       "        [-0.10774207, -0.10109133, -0.05423238, ...,  0.00098236,\n",
       "         -0.06216619, -0.00369668],\n",
       "        [-0.05828036,  0.12222263, -0.13782501, ...,  0.08079233,\n",
       "         -0.08876263, -0.00092422]], dtype=float32),\n",
       " array([-0.00708972,  0.02042966, -0.01929014,  0.00139451, -0.01619594,\n",
       "        -0.00440998, -0.00938674, -0.00365017,  0.01469537, -0.04732579,\n",
       "         0.00991914,  0.0404812 ,  0.01273057, -0.02782734,  0.0475197 ,\n",
       "        -0.01608051, -0.01217192, -0.01644649, -0.0203354 ,  0.01053793,\n",
       "        -0.00442816, -0.04361432, -0.02118096,  0.00587907,  0.02880751,\n",
       "        -0.02314117, -0.00071838, -0.02304815,  0.00056601, -0.0281607 ,\n",
       "         0.01778071, -0.00075093,  0.01935088, -0.00709566, -0.01038441,\n",
       "        -0.01686096, -0.02033703,  0.01579005,  0.02741443,  0.02624242,\n",
       "        -0.00445917, -0.00551229, -0.01072644,  0.01758788,  0.03605961,\n",
       "        -0.01094675, -0.03123354, -0.01724108, -0.01375445, -0.00203756,\n",
       "        -0.00080586, -0.00796821,  0.03254861,  0.01364151, -0.02875815,\n",
       "         0.0294093 , -0.03094731, -0.0156197 , -0.01857539, -0.05451315,\n",
       "         0.06111723, -0.04238055, -0.01988267, -0.03016339, -0.0078354 ,\n",
       "        -0.03890384, -0.01160681, -0.00623482, -0.00411196, -0.03075235,\n",
       "        -0.03092614, -0.0074672 , -0.00863021, -0.03689288, -0.02196532,\n",
       "         0.00021644,  0.01402752, -0.01352307, -0.01579171,  0.00852968,\n",
       "        -0.03535688, -0.00083091,  0.03060087, -0.01856492, -0.0336884 ,\n",
       "         0.03107177, -0.00919726,  0.01277401, -0.03075126,  0.00662635,\n",
       "        -0.00357572, -0.0143074 , -0.02844755, -0.00426177,  0.00359628,\n",
       "         0.0027519 , -0.0435441 , -0.03898991, -0.03536702,  0.00560914,\n",
       "         0.02506567, -0.02529083, -0.00170158,  0.02696653,  0.02173829,\n",
       "        -0.01764813, -0.01312246,  0.00492312,  0.00083408, -0.03190659,\n",
       "        -0.02354028,  0.02459156,  0.00324196, -0.02866611,  0.00592947,\n",
       "         0.02445297,  0.00550783, -0.00737372, -0.00244649, -0.00194298,\n",
       "         0.00727703,  0.01181285,  0.00608339, -0.04124433, -0.04275762,\n",
       "         0.0047112 , -0.02501061, -0.0091965 ], dtype=float32),\n",
       " array([[-1.17073216e-01],\n",
       "        [ 5.34784161e-02],\n",
       "        [ 1.27894029e-01],\n",
       "        [ 2.48297378e-01],\n",
       "        [ 8.05830210e-02],\n",
       "        [-9.77236256e-02],\n",
       "        [-1.45659521e-01],\n",
       "        [-2.02968985e-01],\n",
       "        [ 3.97024274e-01],\n",
       "        [-1.61310837e-01],\n",
       "        [ 2.33626828e-01],\n",
       "        [-1.30875602e-01],\n",
       "        [ 6.24622293e-02],\n",
       "        [-1.56255573e-01],\n",
       "        [ 1.22236669e-01],\n",
       "        [-5.17741106e-02],\n",
       "        [-2.35004231e-01],\n",
       "        [ 1.67359293e-01],\n",
       "        [-2.58474410e-01],\n",
       "        [ 1.00308063e-03],\n",
       "        [-2.59399652e-01],\n",
       "        [ 1.11852765e-01],\n",
       "        [ 2.61583686e-01],\n",
       "        [ 3.10941815e-01],\n",
       "        [-6.57561347e-02],\n",
       "        [ 3.47291082e-02],\n",
       "        [ 2.21193299e-01],\n",
       "        [-1.70151561e-01],\n",
       "        [ 3.04968864e-01],\n",
       "        [-2.44512662e-01],\n",
       "        [ 9.06681046e-02],\n",
       "        [ 2.79007763e-01],\n",
       "        [ 1.06097890e-04],\n",
       "        [-1.69572890e-01],\n",
       "        [-1.40527219e-01],\n",
       "        [-2.18792588e-01],\n",
       "        [-3.49236488e-01],\n",
       "        [ 1.72767431e-01],\n",
       "        [ 1.75629020e-01],\n",
       "        [ 1.46600604e-01],\n",
       "        [-7.02538639e-02],\n",
       "        [-1.50878042e-01],\n",
       "        [-2.44977579e-01],\n",
       "        [ 7.00743794e-02],\n",
       "        [ 9.94369537e-02],\n",
       "        [-1.71761811e-01],\n",
       "        [ 6.54766262e-02],\n",
       "        [ 1.57642320e-01],\n",
       "        [ 1.31956086e-01],\n",
       "        [-8.31318498e-01],\n",
       "        [ 8.65399688e-02],\n",
       "        [-2.36615971e-01],\n",
       "        [ 7.86566660e-02],\n",
       "        [-7.73290098e-02],\n",
       "        [ 1.75106674e-01],\n",
       "        [-2.05707058e-01],\n",
       "        [-2.45099247e-01],\n",
       "        [-1.22065336e-01],\n",
       "        [ 2.78757721e-01],\n",
       "        [ 9.14143547e-02],\n",
       "        [ 2.78448701e-01],\n",
       "        [ 7.39324372e-03],\n",
       "        [-1.02276456e+00],\n",
       "        [ 1.90173224e-01],\n",
       "        [ 1.83725163e-01],\n",
       "        [ 2.06341252e-01],\n",
       "        [ 1.61205888e-01],\n",
       "        [-1.46487683e-01],\n",
       "        [ 5.02373993e-01],\n",
       "        [-1.53669238e-01],\n",
       "        [ 8.72760639e-02],\n",
       "        [ 2.42333472e-01],\n",
       "        [-2.41333134e-02],\n",
       "        [-2.95466602e-01],\n",
       "        [ 1.07022241e-01],\n",
       "        [ 9.09833089e-02],\n",
       "        [ 1.06328242e-01],\n",
       "        [-7.42474273e-02],\n",
       "        [ 3.40386569e-01],\n",
       "        [ 8.77713785e-02],\n",
       "        [ 1.96214482e-01],\n",
       "        [-7.08839297e-02],\n",
       "        [-6.59168124e-01],\n",
       "        [-3.92713159e-01],\n",
       "        [-3.65580738e-01],\n",
       "        [ 9.49446708e-02],\n",
       "        [ 3.72715145e-02],\n",
       "        [ 2.53423443e-03],\n",
       "        [ 1.84484739e-02],\n",
       "        [-3.86831723e-02],\n",
       "        [ 4.06347588e-02],\n",
       "        [-1.73905104e-01],\n",
       "        [-3.03474665e-01],\n",
       "        [-1.58222646e-01],\n",
       "        [ 1.99849508e-03],\n",
       "        [ 1.50581777e-01],\n",
       "        [ 1.34347439e-01],\n",
       "        [ 3.40358317e-02],\n",
       "        [-9.92942788e-03],\n",
       "        [ 1.73437759e-01],\n",
       "        [-2.45536398e-03],\n",
       "        [-3.04221988e-01],\n",
       "        [-1.92182466e-01],\n",
       "        [-4.20001633e-02],\n",
       "        [ 1.32616535e-01],\n",
       "        [ 1.15366625e-02],\n",
       "        [ 1.34250239e-01],\n",
       "        [ 1.92205057e-01],\n",
       "        [ 4.42362987e-02],\n",
       "        [-3.00748236e-02],\n",
       "        [ 8.00554752e-02],\n",
       "        [ 1.10562071e-01],\n",
       "        [-1.80371460e-02],\n",
       "        [ 2.05457047e-01],\n",
       "        [-5.72450697e-01],\n",
       "        [ 2.64754761e-02],\n",
       "        [-2.27378786e-01],\n",
       "        [-1.70148872e-02],\n",
       "        [-1.47051483e-01],\n",
       "        [ 6.63105845e-02],\n",
       "        [ 1.11514606e-01],\n",
       "        [ 6.48125559e-02],\n",
       "        [-3.83298518e-03],\n",
       "        [-5.52218109e-02],\n",
       "        [-4.75304604e-01],\n",
       "        [ 7.06796795e-02],\n",
       "        [ 1.36190578e-01],\n",
       "        [-1.63388267e-01]], dtype=float32),\n",
       " array([-0.37331107], dtype=float32)]"
      ]
     },
     "execution_count": 4,
     "metadata": {},
     "output_type": "execute_result"
    }
   ],
   "source": [
    "model.get_weights()"
   ]
  },
  {
   "cell_type": "markdown",
   "id": "60cba80b",
   "metadata": {},
   "source": [
    "### Helper functions for decoding reviews"
   ]
  },
  {
   "cell_type": "code",
   "execution_count": 5,
   "id": "e38933da",
   "metadata": {},
   "outputs": [],
   "source": [
    "def decode_review(encoded_review):\n",
    "    return \" \".join([reverse_word_index.get(i - 3, \"?\") for i in encoded_review])"
   ]
  },
  {
   "cell_type": "code",
   "execution_count": 6,
   "id": "0ed50dae",
   "metadata": {},
   "outputs": [],
   "source": [
    "def preprocess_text(text):\n",
    "    words = text.lower().split()\n",
    "    encoded_review = [word_index.get(word, 2) + 3 for word in words]\n",
    "    padded_review = sequence.pad_sequences([encoded_review], maxlen=500)\n",
    "    return padded_review"
   ]
  },
  {
   "cell_type": "code",
   "execution_count": 7,
   "id": "4f26a6ff",
   "metadata": {},
   "outputs": [],
   "source": [
    "def predict_sentiment(review):\n",
    "    preprocessed_input = preprocess_text(review)\n",
    "\n",
    "    prediction = model.predict(preprocessed_input)\n",
    "\n",
    "    sentiment = \"Positive\" if prediction[0][0] > 0.5 else \"Negative\"\n",
    "\n",
    "    return sentiment, prediction[0][0]"
   ]
  },
  {
   "cell_type": "markdown",
   "id": "bf6d0931",
   "metadata": {},
   "source": [
    "### Testing the model"
   ]
  },
  {
   "cell_type": "code",
   "execution_count": 8,
   "id": "8e07da8d",
   "metadata": {},
   "outputs": [
    {
     "name": "stdout",
     "output_type": "stream",
     "text": [
      "\u001b[1m1/1\u001b[0m \u001b[32m━━━━━━━━━━━━━━━━━━━━\u001b[0m\u001b[37m\u001b[0m \u001b[1m0s\u001b[0m 220ms/step\n",
      "Review: This movie was fantastic! The acting was great and the plot was thrilling.\n",
      "Sentiment: Positive\n",
      "Prediction Score: 0.5370863676071167\n"
     ]
    }
   ],
   "source": [
    "example_review = (\n",
    "    \"This movie was fantastic! The acting was great and the plot was thrilling.\"\n",
    ")\n",
    "\n",
    "sentiment, score = predict_sentiment(example_review)\n",
    "\n",
    "print(f\"Review: {example_review}\")\n",
    "print(f\"Sentiment: {sentiment}\")\n",
    "print(f\"Prediction Score: {score}\")"
   ]
  }
 ],
 "metadata": {
  "kernelspec": {
   "display_name": "RNN Project",
   "language": "python",
   "name": "python3"
  },
  "language_info": {
   "codemirror_mode": {
    "name": "ipython",
    "version": 3
   },
   "file_extension": ".py",
   "mimetype": "text/x-python",
   "name": "python",
   "nbconvert_exporter": "python",
   "pygments_lexer": "ipython3",
   "version": "3.11.13"
  }
 },
 "nbformat": 4,
 "nbformat_minor": 5
}
